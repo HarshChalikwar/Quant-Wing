{
 "cells": [
  {
   "cell_type": "code",
   "execution_count": 23,
   "id": "1c2248b2",
   "metadata": {},
   "outputs": [],
   "source": [
    "import numpy as np\n",
    "from scipy.stats import norm"
   ]
  },
  {
   "cell_type": "code",
   "execution_count": 24,
   "id": "2e934662",
   "metadata": {},
   "outputs": [],
   "source": [
    "def black_scholes_model(s,k,sigma,r,delta,opt):\n",
    "    d1 = ((np.log(s/k)) + (r - delta + (1/2)*(sigma**2))*t)/(sigma*(np.sqrt(t)))\n",
    "    d2 = d1 - (sigma*(np.sqrt(t)))\n",
    "    if opt == 1 :\n",
    "        c = s*(np.exp((-delta)*t))*(norm.cdf(d1,0,1)) - k*np.exp((-r)*t)*(norm.cdf(d2,0,1))\n",
    "        return c\n",
    "    elif opt == 0 :\n",
    "        p = k*np.exp((-r)*t)*(norm.cdf(-d2,0,1)) - s*(np.exp((-delta)*t))*(norm.cdf(-d1,0,1))\n",
    "        return p\n",
    "    else :\n",
    "        print(\"Enter an valid option\")"
   ]
  },
  {
   "cell_type": "code",
   "execution_count": 26,
   "id": "1288d667",
   "metadata": {},
   "outputs": [
    {
     "name": "stdout",
     "output_type": "stream",
     "text": [
      "input the following values\n",
      "Spot Price = 1\n",
      "Strike Price = 1\n",
      "Volatility = 1\n",
      "risk free rate = 1\n",
      "Time to expiration = 1\n",
      "enter 1 for pricing of call option and enter 0 for pricing of put option = 1\n",
      "0.6788179748866279\n"
     ]
    }
   ],
   "source": [
    "print(\"input the following values\")\n",
    "s = float(input(\"Spot Price = \"))\n",
    "k = float(input(\"Strike Price = \"))\n",
    "sigma = float(input(\"Volatility = \"))\n",
    "r = float(input(\"risk free rate = \"))\n",
    "t = float(input(\"Time to expiration = \"))\n",
    "delta = 0\n",
    "opt = int(input(\"enter 1 for pricing of call option and enter 0 for pricing of put option = \"))\n",
    "opt_pricing = black_scholes_model(s,k,sigma,r,delta,opt) \n",
    "print(opt_pricing)"
   ]
  },
  {
   "cell_type": "code",
   "execution_count": null,
   "id": "e6827997",
   "metadata": {},
   "outputs": [],
   "source": []
  }
 ],
 "metadata": {
  "kernelspec": {
   "display_name": "Python 3 (ipykernel)",
   "language": "python",
   "name": "python3"
  },
  "language_info": {
   "codemirror_mode": {
    "name": "ipython",
    "version": 3
   },
   "file_extension": ".py",
   "mimetype": "text/x-python",
   "name": "python",
   "nbconvert_exporter": "python",
   "pygments_lexer": "ipython3",
   "version": "3.9.12"
  }
 },
 "nbformat": 4,
 "nbformat_minor": 5
}
